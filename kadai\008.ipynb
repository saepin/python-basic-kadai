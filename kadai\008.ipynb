{
  "nbformat": 4,
  "nbformat_minor": 0,
  "metadata": {
    "colab": {
      "provenance": [],
      "authorship_tag": "ABX9TyMXfcYmFkZOfnAEF5Xg6TXZ",
      "include_colab_link": true
    },
    "kernelspec": {
      "name": "python3",
      "display_name": "Python 3"
    },
    "language_info": {
      "name": "python"
    }
  },
  "cells": [
    {
      "cell_type": "markdown",
      "metadata": {
        "id": "view-in-github",
        "colab_type": "text"
      },
      "source": [
        "<a href=\"https://colab.research.google.com/github/saepin/python-basic-kadai/blob/main/kadai%5C008.ipynb\" target=\"_parent\"><img src=\"https://colab.research.google.com/assets/colab-badge.svg\" alt=\"Open In Colab\"/></a>"
      ]
    },
    {
      "cell_type": "code",
      "source": [
        "for ver in range(1,101):\n",
        "   if ver % 3 == 0 and ver % 5 == 0:\n",
        "    print(\"FIZBUZZ\")\n",
        "   elif ver % 3 ==0:\n",
        "       print(\"Fizz\")\n",
        "   elif ver % 5 ==0:\n",
        "       print(\"BUZZ\")\n",
        "   else:\n",
        "      print(ver)\n",
        "\n",
        "\n"
      ],
      "metadata": {
        "colab": {
          "base_uri": "https://localhost:8080/"
        },
        "id": "10goJQL0bjwn",
        "outputId": "37c8a8fd-fea3-4b02-afc4-da752d8f3a1f"
      },
      "execution_count": 20,
      "outputs": [
        {
          "output_type": "stream",
          "name": "stdout",
          "text": [
            "1\n",
            "2\n",
            "Fizz\n",
            "4\n",
            "BUZZ\n",
            "Fizz\n",
            "7\n",
            "8\n",
            "Fizz\n",
            "BUZZ\n",
            "11\n",
            "Fizz\n",
            "13\n",
            "14\n",
            "FIZBUZZ\n",
            "16\n",
            "17\n",
            "Fizz\n",
            "19\n",
            "BUZZ\n",
            "Fizz\n",
            "22\n",
            "23\n",
            "Fizz\n",
            "BUZZ\n",
            "26\n",
            "Fizz\n",
            "28\n",
            "29\n",
            "FIZBUZZ\n",
            "31\n",
            "32\n",
            "Fizz\n",
            "34\n",
            "BUZZ\n",
            "Fizz\n",
            "37\n",
            "38\n",
            "Fizz\n",
            "BUZZ\n",
            "41\n",
            "Fizz\n",
            "43\n",
            "44\n",
            "FIZBUZZ\n",
            "46\n",
            "47\n",
            "Fizz\n",
            "49\n",
            "BUZZ\n",
            "Fizz\n",
            "52\n",
            "53\n",
            "Fizz\n",
            "BUZZ\n",
            "56\n",
            "Fizz\n",
            "58\n",
            "59\n",
            "FIZBUZZ\n",
            "61\n",
            "62\n",
            "Fizz\n",
            "64\n",
            "BUZZ\n",
            "Fizz\n",
            "67\n",
            "68\n",
            "Fizz\n",
            "BUZZ\n",
            "71\n",
            "Fizz\n",
            "73\n",
            "74\n",
            "FIZBUZZ\n",
            "76\n",
            "77\n",
            "Fizz\n",
            "79\n",
            "BUZZ\n",
            "Fizz\n",
            "82\n",
            "83\n",
            "Fizz\n",
            "BUZZ\n",
            "86\n",
            "Fizz\n",
            "88\n",
            "89\n",
            "FIZBUZZ\n",
            "91\n",
            "92\n",
            "Fizz\n",
            "94\n",
            "BUZZ\n",
            "Fizz\n",
            "97\n",
            "98\n",
            "Fizz\n",
            "BUZZ\n"
          ]
        }
      ]
    }
  ]
}