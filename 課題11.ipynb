{
  "nbformat": 4,
  "nbformat_minor": 0,
  "metadata": {
    "colab": {
      "provenance": [],
      "authorship_tag": "ABX9TyNRI1qnCDFLK/si4a8JBUsW",
      "include_colab_link": true
    },
    "kernelspec": {
      "name": "python3",
      "display_name": "Python 3"
    },
    "language_info": {
      "name": "python"
    }
  },
  "cells": [
    {
      "cell_type": "markdown",
      "metadata": {
        "id": "view-in-github",
        "colab_type": "text"
      },
      "source": [
        "<a href=\"https://colab.research.google.com/github/saepin/python-basic-kadai/blob/main/%E8%AA%B2%E9%A1%8C11.ipynb\" target=\"_parent\"><img src=\"https://colab.research.google.com/assets/colab-badge.svg\" alt=\"Open In Colab\"/></a>"
      ]
    },
    {
      "cell_type": "code",
      "source": [
        "list=[\"水\",\"金\",\"土\",\"火\",\"木\",\"土\",\"天\",\"海\",\"冥\"]\n",
        "for list in list:\n",
        "    print(list)"
      ],
      "metadata": {
        "colab": {
          "base_uri": "https://localhost:8080/"
        },
        "id": "vWoZ25fkYmi1",
        "outputId": "d4f6f091-cd47-497a-cfdf-74230d7831a4"
      },
      "execution_count": 2,
      "outputs": [
        {
          "output_type": "stream",
          "name": "stdout",
          "text": [
            "水\n",
            "金\n",
            "土\n",
            "火\n",
            "木\n",
            "土\n",
            "天\n",
            "海\n",
            "冥\n"
          ]
        }
      ]
    },
    {
      "cell_type": "code",
      "source": [
        "print(\"1\")\n",
        "list = [\"水\",\"金\",\"土\",\"火\",\"木\",\"土\",\"天\",\"海\",\"冥\"]\n",
        "print(list)\n",
        "\n",
        "print(\"2\")\n",
        "i = 0\n",
        "while i < 7 :\n",
        "    print( list[i] )\n",
        "    i = i + 1"
      ],
      "metadata": {
        "colab": {
          "base_uri": "https://localhost:8080/"
        },
        "id": "tTv7gvKqKj1A",
        "outputId": "19a32d00-82f4-453c-e7f8-a58d1636789b"
      },
      "execution_count": 5,
      "outputs": [
        {
          "output_type": "stream",
          "name": "stdout",
          "text": [
            "1\n",
            "['水', '金', '土', '火', '木', '土', '天', '海', '冥']\n",
            "2\n",
            "水\n",
            "金\n",
            "土\n",
            "火\n",
            "木\n",
            "土\n",
            "天\n"
          ]
        }
      ]
    }
  ]
}